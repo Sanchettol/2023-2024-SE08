{
  "nbformat": 4,
  "nbformat_minor": 0,
  "metadata": {
    "colab": {
      "provenance": [],
      "authorship_tag": "ABX9TyNQToge4xHebQhiZhqDGMo/",
      "include_colab_link": true
    },
    "kernelspec": {
      "name": "python3",
      "display_name": "Python 3"
    },
    "language_info": {
      "name": "python"
    }
  },
  "cells": [
    {
      "cell_type": "markdown",
      "metadata": {
        "id": "view-in-github",
        "colab_type": "text"
      },
      "source": [
        "<a href=\"https://colab.research.google.com/github/Sanchettol/2023-2024-SE08/blob/main/automateEmail.ipynb\" target=\"_parent\"><img src=\"https://colab.research.google.com/assets/colab-badge.svg\" alt=\"Open In Colab\"/></a>"
      ]
    },
    {
      "cell_type": "code",
      "execution_count": null,
      "metadata": {
        "id": "nlHj5_TugsvU"
      },
      "outputs": [],
      "source": [
        "#importing all the necessary libraries\n",
        "\n",
        "import csv\n",
        "import os\n",
        "import smtplib\n",
        "from email.mime.multipart import MIMEMultipart\n",
        "from email.mime.text import MIMEText\n",
        "from email.mime.image import MIMEImage\n",
        "from google.colab import userdata"
      ]
    },
    {
      "cell_type": "code",
      "source": [
        "def connect():\n",
        "  server = smtplib.SMTP('smtp.gmail.com', 587)\n",
        "  server.starttls()\n",
        "  server.login(userdata.get('email'),userdata.get('password'))\n",
        "  return server\n",
        "\n",
        "def create(subject,body,sender_email,receiver_email,image_path):\n",
        "  message = MIMEMultipart()\n",
        "  message['From'] = sender_email\n",
        "  message['To'] = receiver_email\n",
        "  message['Subject'] = subject\n",
        "\n",
        "  message.attach(MIMEText(body, 'html'))\n",
        "\n",
        "  with open(image_path, 'rb') as img_file:\n",
        "    image = MIMEImage(img_file.read())\n",
        "    image.add_header('Content-Disposition', 'attachment', filename=os.path.basename(image_path))\n",
        "    message.attach(image)\n",
        "\n",
        "  return message\n",
        "\n",
        "def send_emails():\n",
        "    with open('customer_list.csv') as csv_file:\n",
        "      csv_reader = csv.DictReader(csv_file)\n",
        "      for row in csv_reader:\n",
        "        customer_name = row['Name']\n",
        "        customer_email = row['Email']\n",
        "\n",
        "        # Customize email content\n",
        "        subject = \"Special Offer for {}\".format(customer_name)\n",
        "        body = \"\"\"\n",
        "        <html>\n",
        "          <head></head>\n",
        "          <body style=\"font-family: Arial, sans-serif; background-color: #f5f5f5; padding: 20px;\">\n",
        "            <div style=\"max-width: 600px; margin: 0 auto; background-color: #ffffff; padding: 20px; border-radius: 10px; box-shadow: 0px 0px 10px rgba(0, 0, 0, 0.1);\">\n",
        "              <h1 style=\"color: #4CAF50; text-align: center; margin-bottom: 20px;\">🌟 Exclusive Black Friday Offer! 🌟</h1>\n",
        "              <p>Hello {},</p>\n",
        "              <p>We are excited to announce our exclusive Black Friday offer just for you!</p>\n",
        "              <p>Get ready to indulge in the freshest and most delicious vegetables at unbeatable prices.</p>\n",
        "              <p>Here's what's in store for you:</p>\n",
        "              <ul style=\"padding-left: 20px;\">\n",
        "                <li>Up to 50% off on a wide variety of organic vegetables.</li>\n",
        "                <li>Special discounts on bulk orders for your holiday feasts.</li>\n",
        "                <li>Free delivery on orders above Rs 50.</li>\n",
        "              </ul>\n",
        "              <p>Hurry up and stock up on your favorites before they're gone!</p>\n",
        "              <p>Visit us today and make the most of this incredible offer!</p>\n",
        "              <div style=\"text-align: center; margin-top: 30px;\">\n",
        "                <img src=\"/content/logo-removebg-preview.png\" style=\"max-width: 100%; height: auto; border-radius: 10px;\">\n",
        "              </div>\n",
        "              <p style=\"text-align: center; margin-top: 20px;\">Best regards,<br>Your Farmcart Team</p>\n",
        "            </div>\n",
        "          </body>\n",
        "        </html>\n",
        "        \"\"\".format(customer_name)\n",
        "\n",
        "        server = connect()\n",
        "        message = create(subject,body,'hannanchougle28@gmail.com',customer_email,'/content/offer_image.jpg')\n",
        "        server.sendmail('2022.abdul.chougle@ves.ac.in', customer_email,message.as_string())\n",
        "        server.quit()\n",
        "\n",
        "send_emails()"
      ],
      "metadata": {
        "id": "tA9_qy29gzCK"
      },
      "execution_count": null,
      "outputs": []
    }
  ]
}